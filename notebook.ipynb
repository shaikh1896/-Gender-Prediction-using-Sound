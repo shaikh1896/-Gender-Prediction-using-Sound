{
  "nbformat": 4,
  "nbformat_minor": 0,
  "metadata": {
    "kernelspec": {
      "name": "python3",
      "display_name": "Python 3",
      "language": "python"
    },
    "language_info": {
      "name": "python",
      "version": "3.6.7",
      "mimetype": "text/x-python",
      "codemirror_mode": {
        "name": "ipython",
        "version": 3
      },
      "pygments_lexer": "ipython3",
      "nbconvert_exporter": "python",
      "file_extension": ".py"
    },
    "colab": {
      "name": "notebook.ipynb",
      "provenance": [],
      "collapsed_sections": []
    }
  },
  "cells": [
    {
      "cell_type": "markdown",
      "metadata": {
        "id": "E3OuNSVmhUaS"
      },
      "source": [
        "Import the fuzzy package so that we can find out the phonetic similarity"
      ]
    },
    {
      "cell_type": "code",
      "metadata": {
        "dc": {
          "key": "3"
        },
        "tags": [
          "sample_code"
        ],
        "trusted": true,
        "colab": {
          "base_uri": "https://localhost:8080/"
        },
        "id": "k7XH7tJid503",
        "outputId": "9bb609e3-a336-4640-81aa-b8533b41c9b4"
      },
      "source": [
        "\n",
        "# Importing the fuzzy package\n",
        "import fuzzy \n",
        "\n",
        "# Exploring the output of fuzzy.nysiis\n",
        "out = fuzzy.nysiis\n",
        "\n",
        "# Testing equivalence of similar sounding words\n",
        "fuzzy.nysiis('shaikh') == fuzzy.nysiis('sheikh')"
      ],
      "execution_count": 4,
      "outputs": [
        {
          "output_type": "execute_result",
          "data": {
            "text/plain": [
              "True"
            ]
          },
          "metadata": {
            "tags": []
          },
          "execution_count": 4
        }
      ]
    },
    {
      "cell_type": "markdown",
      "metadata": {
        "id": "v6DVycPzha0o"
      },
      "source": [
        "## Reading data of newyork best selling novel's author from 2008 to 2017"
      ]
    },
    {
      "cell_type": "code",
      "metadata": {
        "dc": {
          "key": "10"
        },
        "tags": [
          "sample_code"
        ],
        "trusted": true,
        "colab": {
          "base_uri": "https://localhost:8080/",
          "height": 203
        },
        "id": "2O984hGwd506",
        "outputId": "aa86019e-916d-4ceb-9183-5233b614c953"
      },
      "source": [
        "# Importing the pandas module\n",
        "import pandas as pd\n",
        "\n",
        "# Reading in datasets/nytkids_yearly.csv, which is semicolon delimited.\n",
        "author_df = pd.read_csv('datasets/nytkids_yearly.csv',delimiter=';')\n",
        "\n",
        "# Looping through author_df['Author'] to extract the authors first names\n",
        "first_name = []\n",
        "for name in author_df['Author']:\n",
        "    fname = name.split()\n",
        "    first_name.append(fname[0])\n",
        "    \n",
        "# Adding first_name as a column to author_df\n",
        "author_df['first_name'] = first_name\n",
        "author_df.head()\n"
      ],
      "execution_count": 5,
      "outputs": [
        {
          "output_type": "execute_result",
          "data": {
            "text/html": [
              "<div>\n",
              "<style scoped>\n",
              "    .dataframe tbody tr th:only-of-type {\n",
              "        vertical-align: middle;\n",
              "    }\n",
              "\n",
              "    .dataframe tbody tr th {\n",
              "        vertical-align: top;\n",
              "    }\n",
              "\n",
              "    .dataframe thead th {\n",
              "        text-align: right;\n",
              "    }\n",
              "</style>\n",
              "<table border=\"1\" class=\"dataframe\">\n",
              "  <thead>\n",
              "    <tr style=\"text-align: right;\">\n",
              "      <th></th>\n",
              "      <th>Year</th>\n",
              "      <th>Book Title</th>\n",
              "      <th>Author</th>\n",
              "      <th>Besteller this year</th>\n",
              "      <th>first_name</th>\n",
              "    </tr>\n",
              "  </thead>\n",
              "  <tbody>\n",
              "    <tr>\n",
              "      <th>0</th>\n",
              "      <td>2017</td>\n",
              "      <td>DRAGONS LOVE TACOS</td>\n",
              "      <td>Adam Rubin</td>\n",
              "      <td>49</td>\n",
              "      <td>Adam</td>\n",
              "    </tr>\n",
              "    <tr>\n",
              "      <th>1</th>\n",
              "      <td>2017</td>\n",
              "      <td>THE WONDERFUL THINGS YOU WILL BE</td>\n",
              "      <td>Emily Winfield Martin</td>\n",
              "      <td>48</td>\n",
              "      <td>Emily</td>\n",
              "    </tr>\n",
              "    <tr>\n",
              "      <th>2</th>\n",
              "      <td>2017</td>\n",
              "      <td>THE DAY THE CRAYONS QUIT</td>\n",
              "      <td>Drew Daywalt</td>\n",
              "      <td>44</td>\n",
              "      <td>Drew</td>\n",
              "    </tr>\n",
              "    <tr>\n",
              "      <th>3</th>\n",
              "      <td>2017</td>\n",
              "      <td>ROSIE REVERE, ENGINEER</td>\n",
              "      <td>Andrea Beaty</td>\n",
              "      <td>38</td>\n",
              "      <td>Andrea</td>\n",
              "    </tr>\n",
              "    <tr>\n",
              "      <th>4</th>\n",
              "      <td>2017</td>\n",
              "      <td>ADA TWIST, SCIENTIST</td>\n",
              "      <td>Andrea Beaty</td>\n",
              "      <td>28</td>\n",
              "      <td>Andrea</td>\n",
              "    </tr>\n",
              "  </tbody>\n",
              "</table>\n",
              "</div>"
            ],
            "text/plain": [
              "   Year                        Book Title  ... Besteller this year  first_name\n",
              "0  2017                DRAGONS LOVE TACOS  ...                  49        Adam\n",
              "1  2017  THE WONDERFUL THINGS YOU WILL BE  ...                  48       Emily\n",
              "2  2017          THE DAY THE CRAYONS QUIT  ...                  44        Drew\n",
              "3  2017            ROSIE REVERE, ENGINEER  ...                  38      Andrea\n",
              "4  2017              ADA TWIST, SCIENTIST  ...                  28      Andrea\n",
              "\n",
              "[5 rows x 5 columns]"
            ]
          },
          "metadata": {
            "tags": []
          },
          "execution_count": 5
        }
      ]
    },
    {
      "cell_type": "markdown",
      "metadata": {
        "dc": {
          "key": "17"
        },
        "deletable": false,
        "editable": false,
        "run_control": {
          "frozen": true
        },
        "tags": [
          "context"
        ],
        "id": "aO1Z1N3Dd507"
      },
      "source": [
        "## 3. It's time to bring on the phonics... _again_!\n",
        "## <p>When we were young children, we were taught to read using phonics; sounding out the letters that compose words. So let's relive history and do that again. "
      ]
    },
    {
      "cell_type": "code",
      "metadata": {
        "dc": {
          "key": "17"
        },
        "tags": [
          "sample_code"
        ],
        "trusted": true,
        "colab": {
          "base_uri": "https://localhost:8080/",
          "height": 220
        },
        "id": "XFbSA8bud508",
        "outputId": "13a2175b-949e-40e4-f8f2-ef3fd20dbd5d"
      },
      "source": [
        "# Importing numpy\n",
        "import numpy as np\n",
        "\n",
        "# Looping through author's first names to create the nysiis (fuzzy) equivalent\n",
        "nysiis_name = []\n",
        "for name in first_name:\n",
        "    fuzzy_equv = fuzzy.nysiis(name)\n",
        "    nysiis_name.append(fuzzy_equv)\n",
        "\n",
        "# Adding nysiis_name as a column to author_df\n",
        "author_df['nysiis_name'] = nysiis_name\n",
        "\n",
        "# Printing out the difference between unique firstnames and unique nysiis_names:\n",
        "unique_names = np.unique(first_name)\n",
        "unique_nysiis_names = np.unique(nysiis_name)\n",
        "print(len(unique_names) - len(unique_nysiis_names))\n",
        "author_df.head()"
      ],
      "execution_count": 6,
      "outputs": [
        {
          "output_type": "stream",
          "text": [
            "25\n"
          ],
          "name": "stdout"
        },
        {
          "output_type": "execute_result",
          "data": {
            "text/html": [
              "<div>\n",
              "<style scoped>\n",
              "    .dataframe tbody tr th:only-of-type {\n",
              "        vertical-align: middle;\n",
              "    }\n",
              "\n",
              "    .dataframe tbody tr th {\n",
              "        vertical-align: top;\n",
              "    }\n",
              "\n",
              "    .dataframe thead th {\n",
              "        text-align: right;\n",
              "    }\n",
              "</style>\n",
              "<table border=\"1\" class=\"dataframe\">\n",
              "  <thead>\n",
              "    <tr style=\"text-align: right;\">\n",
              "      <th></th>\n",
              "      <th>Year</th>\n",
              "      <th>Book Title</th>\n",
              "      <th>Author</th>\n",
              "      <th>Besteller this year</th>\n",
              "      <th>first_name</th>\n",
              "      <th>nysiis_name</th>\n",
              "    </tr>\n",
              "  </thead>\n",
              "  <tbody>\n",
              "    <tr>\n",
              "      <th>0</th>\n",
              "      <td>2017</td>\n",
              "      <td>DRAGONS LOVE TACOS</td>\n",
              "      <td>Adam Rubin</td>\n",
              "      <td>49</td>\n",
              "      <td>Adam</td>\n",
              "      <td>ADAN</td>\n",
              "    </tr>\n",
              "    <tr>\n",
              "      <th>1</th>\n",
              "      <td>2017</td>\n",
              "      <td>THE WONDERFUL THINGS YOU WILL BE</td>\n",
              "      <td>Emily Winfield Martin</td>\n",
              "      <td>48</td>\n",
              "      <td>Emily</td>\n",
              "      <td>ENALY</td>\n",
              "    </tr>\n",
              "    <tr>\n",
              "      <th>2</th>\n",
              "      <td>2017</td>\n",
              "      <td>THE DAY THE CRAYONS QUIT</td>\n",
              "      <td>Drew Daywalt</td>\n",
              "      <td>44</td>\n",
              "      <td>Drew</td>\n",
              "      <td>DR</td>\n",
              "    </tr>\n",
              "    <tr>\n",
              "      <th>3</th>\n",
              "      <td>2017</td>\n",
              "      <td>ROSIE REVERE, ENGINEER</td>\n",
              "      <td>Andrea Beaty</td>\n",
              "      <td>38</td>\n",
              "      <td>Andrea</td>\n",
              "      <td>ANDR</td>\n",
              "    </tr>\n",
              "    <tr>\n",
              "      <th>4</th>\n",
              "      <td>2017</td>\n",
              "      <td>ADA TWIST, SCIENTIST</td>\n",
              "      <td>Andrea Beaty</td>\n",
              "      <td>28</td>\n",
              "      <td>Andrea</td>\n",
              "      <td>ANDR</td>\n",
              "    </tr>\n",
              "  </tbody>\n",
              "</table>\n",
              "</div>"
            ],
            "text/plain": [
              "   Year                        Book Title  ... first_name  nysiis_name\n",
              "0  2017                DRAGONS LOVE TACOS  ...       Adam         ADAN\n",
              "1  2017  THE WONDERFUL THINGS YOU WILL BE  ...      Emily        ENALY\n",
              "2  2017          THE DAY THE CRAYONS QUIT  ...       Drew           DR\n",
              "3  2017            ROSIE REVERE, ENGINEER  ...     Andrea         ANDR\n",
              "4  2017              ADA TWIST, SCIENTIST  ...     Andrea         ANDR\n",
              "\n",
              "[5 rows x 6 columns]"
            ]
          },
          "metadata": {
            "tags": []
          },
          "execution_count": 6
        }
      ]
    },
    {
      "cell_type": "markdown",
      "metadata": {
        "dc": {
          "key": "24"
        },
        "deletable": false,
        "editable": false,
        "run_control": {
          "frozen": true
        },
        "tags": [
          "context"
        ],
        "id": "wv07YCcmd509"
      },
      "source": [
        "## 4. The inbetweeners\n",
        "<p>We'll use <code>babynames_nysiis.csv</code>, a dataset that is derived from <a href=\"https://www.ssa.gov/oact/babynames/limits.html\">the Social Security Administration’s baby name data</a>, to identify author genders. The dataset contains unique NYSIIS versions of baby names, and also includes the percentage of times the name appeared as a female name (<code>perc_female</code>) and the percentage of times it appeared as a male name (<code>perc_male</code>). </p>\n",
        "<p>We'll use this data to create a list of <code>gender</code>. Let's make the following simplifying assumption: For each name, if <code>perc_female</code> is greater than <code>perc_male</code> then assume the name is female, if <code>perc_female</code> is less than <code>perc_male</code> then assume it is a male name, and if the percentages are equal then it's a \"neutral\" name.</p>"
      ]
    },
    {
      "cell_type": "code",
      "metadata": {
        "dc": {
          "key": "24"
        },
        "tags": [
          "sample_code"
        ],
        "trusted": true,
        "colab": {
          "base_uri": "https://localhost:8080/",
          "height": 203
        },
        "id": "3rgh1GLCd50-",
        "outputId": "99f973d9-85b8-4c8b-a700-b59c06527868"
      },
      "source": [
        "# Reading in datasets/babynames_nysiis.csv, which is semicolon delimited.\n",
        "babies_df = pd.read_csv('datasets/babynames_nysiis.csv',delimiter=';')\n",
        "\n",
        "# Looping through babies_df to and filling up gender\n",
        "gender = []\n",
        "for i in range(len(babies_df['babynysiis'])):\n",
        "    if babies_df.perc_female[i] > babies_df.perc_male[i]:\n",
        "        gender.append('F')\n",
        "    elif babies_df.perc_female[i] < babies_df.perc_male[i]:\n",
        "        gender.append('M')\n",
        "    elif babies_df.perc_female[i] == babies_df.perc_male[i]:\n",
        "        gender.append('N')\n",
        "\n",
        "# Adding a gender column to babies_df\n",
        "babies_df['gender'] = gender\n",
        "\n",
        "# Printing out the first few rows of babies_df\n",
        "babies_df.head()"
      ],
      "execution_count": 7,
      "outputs": [
        {
          "output_type": "execute_result",
          "data": {
            "text/html": [
              "<div>\n",
              "<style scoped>\n",
              "    .dataframe tbody tr th:only-of-type {\n",
              "        vertical-align: middle;\n",
              "    }\n",
              "\n",
              "    .dataframe tbody tr th {\n",
              "        vertical-align: top;\n",
              "    }\n",
              "\n",
              "    .dataframe thead th {\n",
              "        text-align: right;\n",
              "    }\n",
              "</style>\n",
              "<table border=\"1\" class=\"dataframe\">\n",
              "  <thead>\n",
              "    <tr style=\"text-align: right;\">\n",
              "      <th></th>\n",
              "      <th>babynysiis</th>\n",
              "      <th>perc_female</th>\n",
              "      <th>perc_male</th>\n",
              "      <th>gender</th>\n",
              "    </tr>\n",
              "  </thead>\n",
              "  <tbody>\n",
              "    <tr>\n",
              "      <th>0</th>\n",
              "      <td>NaN</td>\n",
              "      <td>62.50</td>\n",
              "      <td>37.50</td>\n",
              "      <td>F</td>\n",
              "    </tr>\n",
              "    <tr>\n",
              "      <th>1</th>\n",
              "      <td>RAX</td>\n",
              "      <td>63.64</td>\n",
              "      <td>36.36</td>\n",
              "      <td>F</td>\n",
              "    </tr>\n",
              "    <tr>\n",
              "      <th>2</th>\n",
              "      <td>ESAR</td>\n",
              "      <td>44.44</td>\n",
              "      <td>55.56</td>\n",
              "      <td>M</td>\n",
              "    </tr>\n",
              "    <tr>\n",
              "      <th>3</th>\n",
              "      <td>DJANG</td>\n",
              "      <td>0.00</td>\n",
              "      <td>100.00</td>\n",
              "      <td>M</td>\n",
              "    </tr>\n",
              "    <tr>\n",
              "      <th>4</th>\n",
              "      <td>PARCAL</td>\n",
              "      <td>25.00</td>\n",
              "      <td>75.00</td>\n",
              "      <td>M</td>\n",
              "    </tr>\n",
              "  </tbody>\n",
              "</table>\n",
              "</div>"
            ],
            "text/plain": [
              "  babynysiis  perc_female  perc_male gender\n",
              "0        NaN        62.50      37.50      F\n",
              "1        RAX        63.64      36.36      F\n",
              "2       ESAR        44.44      55.56      M\n",
              "3      DJANG         0.00     100.00      M\n",
              "4     PARCAL        25.00      75.00      M"
            ]
          },
          "metadata": {
            "tags": []
          },
          "execution_count": 7
        }
      ]
    },
    {
      "cell_type": "markdown",
      "metadata": {
        "dc": {
          "key": "31"
        },
        "deletable": false,
        "editable": false,
        "run_control": {
          "frozen": true
        },
        "tags": [
          "context"
        ],
        "id": "Y5AzeLP5d51A"
      },
      "source": [
        "## 5. Playing matchmaker\n",
        "<p>Now that we have identified the likely genders of different names, let's find author genders by searching for each author's name in the <code>babies_df</code> DataFrame, and extracting the associated gender. </p>"
      ]
    },
    {
      "cell_type": "code",
      "metadata": {
        "dc": {
          "key": "31"
        },
        "tags": [
          "sample_code"
        ],
        "trusted": true,
        "colab": {
          "base_uri": "https://localhost:8080/"
        },
        "id": "7zDU01T5d51B",
        "outputId": "193a20ad-bc9d-45a0-fe5d-9282a47cb84b"
      },
      "source": [
        "# This function returns the location of an element in a_list.\n",
        "# Where an item does not exist, it returns -1.\n",
        "def locate_in_list(a_list, element):\n",
        "    loc_of_name = a_list.index(element) if element in a_list else -1\n",
        "    return(loc_of_name)\n",
        "\n",
        "# Looping through author_df['nysiis_name'] and appending the gender of each\n",
        "# author to author_gender.\n",
        "author_gender = []\n",
        "for name in author_df['nysiis_name']:\n",
        "    index = locate_in_list(list(babies_df['babynysiis']),name)\n",
        "    if index != -1:\n",
        "        gender = babies_df.gender[index]\n",
        "        author_gender.append(gender)\n",
        "    else:\n",
        "        author_gender.append('Unknown')\n",
        "    \n",
        "        \n",
        "# Adding author_gender to the author_df\n",
        "author_df['author_gender'] = author_gender\n",
        "author_df.head()\n",
        "# Counting the author's genders\n",
        "author_df.author_gender.value_counts()"
      ],
      "execution_count": 8,
      "outputs": [
        {
          "output_type": "execute_result",
          "data": {
            "text/plain": [
              "F          395\n",
              "M          191\n",
              "Unknown      9\n",
              "N            8\n",
              "Name: author_gender, dtype: int64"
            ]
          },
          "metadata": {
            "tags": []
          },
          "execution_count": 8
        }
      ]
    },
    {
      "cell_type": "markdown",
      "metadata": {
        "dc": {
          "key": "38"
        },
        "deletable": false,
        "editable": false,
        "run_control": {
          "frozen": true
        },
        "tags": [
          "context"
        ],
        "id": "m0J6WzdJd51B"
      },
      "source": [
        "## 6. Tally up\n",
        "<p>From the results above see that there are more female authors on the New York Times best seller's list than male authors. Our dataset spans 2008 to 2017. Let's find out if there have been changes over time.</p>"
      ]
    },
    {
      "cell_type": "code",
      "metadata": {
        "dc": {
          "key": "38"
        },
        "tags": [
          "sample_code"
        ],
        "trusted": true,
        "colab": {
          "base_uri": "https://localhost:8080/",
          "height": 142
        },
        "id": "vjJJ6eRad51C",
        "outputId": "c8534613-eb4f-4a47-81bf-5be535a349b1"
      },
      "source": [
        "# Creating a list of unique years, sorted in ascending order.\n",
        "years = list(np.unique(author_df.Year))\n",
        "\n",
        "# Initializing lists\n",
        "males_by_yr = []\n",
        "females_by_yr = []\n",
        "unknown_by_yr = []\n",
        "# Looping through years to find the number of male, female and unknown authors per year\n",
        "# ...YOUR CODE FOR TASK 6...\n",
        "for yr in years:\n",
        "    males_by_yr.append(len(author_df[(author_df['author_gender']=='M') & (author_df['Year'] == yr)]))\n",
        "    females_by_yr.append(len(author_df[(author_df['author_gender']=='F') & (author_df['Year'] == yr)]))\n",
        "    unknown_by_yr.append(len(author_df[(author_df['author_gender']=='Unknow') & (author_df['Year'] == yr)]))\n",
        "\n",
        "# Printing out yearly values to examine changes over time\n",
        "data = np.array([males_by_yr,females_by_yr,unknown_by_yr])\n",
        "headers = ['males','females','Unknowns']\n",
        "pd.DataFrame(data,headers,years)"
      ],
      "execution_count": 9,
      "outputs": [
        {
          "output_type": "execute_result",
          "data": {
            "text/html": [
              "<div>\n",
              "<style scoped>\n",
              "    .dataframe tbody tr th:only-of-type {\n",
              "        vertical-align: middle;\n",
              "    }\n",
              "\n",
              "    .dataframe tbody tr th {\n",
              "        vertical-align: top;\n",
              "    }\n",
              "\n",
              "    .dataframe thead th {\n",
              "        text-align: right;\n",
              "    }\n",
              "</style>\n",
              "<table border=\"1\" class=\"dataframe\">\n",
              "  <thead>\n",
              "    <tr style=\"text-align: right;\">\n",
              "      <th></th>\n",
              "      <th>2008</th>\n",
              "      <th>2009</th>\n",
              "      <th>2010</th>\n",
              "      <th>2011</th>\n",
              "      <th>2012</th>\n",
              "      <th>2013</th>\n",
              "      <th>2014</th>\n",
              "      <th>2015</th>\n",
              "      <th>2016</th>\n",
              "      <th>2017</th>\n",
              "    </tr>\n",
              "  </thead>\n",
              "  <tbody>\n",
              "    <tr>\n",
              "      <th>males</th>\n",
              "      <td>8</td>\n",
              "      <td>19</td>\n",
              "      <td>27</td>\n",
              "      <td>21</td>\n",
              "      <td>21</td>\n",
              "      <td>11</td>\n",
              "      <td>21</td>\n",
              "      <td>18</td>\n",
              "      <td>25</td>\n",
              "      <td>20</td>\n",
              "    </tr>\n",
              "    <tr>\n",
              "      <th>females</th>\n",
              "      <td>15</td>\n",
              "      <td>45</td>\n",
              "      <td>48</td>\n",
              "      <td>51</td>\n",
              "      <td>46</td>\n",
              "      <td>51</td>\n",
              "      <td>34</td>\n",
              "      <td>30</td>\n",
              "      <td>32</td>\n",
              "      <td>43</td>\n",
              "    </tr>\n",
              "    <tr>\n",
              "      <th>Unknowns</th>\n",
              "      <td>0</td>\n",
              "      <td>0</td>\n",
              "      <td>0</td>\n",
              "      <td>0</td>\n",
              "      <td>0</td>\n",
              "      <td>0</td>\n",
              "      <td>0</td>\n",
              "      <td>0</td>\n",
              "      <td>0</td>\n",
              "      <td>0</td>\n",
              "    </tr>\n",
              "  </tbody>\n",
              "</table>\n",
              "</div>"
            ],
            "text/plain": [
              "          2008  2009  2010  2011  2012  2013  2014  2015  2016  2017\n",
              "males        8    19    27    21    21    11    21    18    25    20\n",
              "females     15    45    48    51    46    51    34    30    32    43\n",
              "Unknowns     0     0     0     0     0     0     0     0     0     0"
            ]
          },
          "metadata": {
            "tags": []
          },
          "execution_count": 9
        }
      ]
    },
    {
      "cell_type": "markdown",
      "metadata": {
        "dc": {
          "key": "45"
        },
        "deletable": false,
        "editable": false,
        "run_control": {
          "frozen": true
        },
        "tags": [
          "context"
        ],
        "id": "g6KrTEvxd51D"
      },
      "source": [
        "## 7. Foreign-born authors?\n",
        "<p>Our gender data comes from social security applications of individuals born in the US. Hence, one possible explanation for why there are \"unknown\" genders associated with some author names is because these authors were foreign-born. While making this assumption, we should note that these are only a subset of foreign-born authors as others will have names that have a match in <code>baby_df</code> (and in the social security dataset). </p>\n",
        "<p>Using a bar chart, let's explore the trend of foreign-born authors with no name matches in the social security dataset.</p>"
      ]
    },
    {
      "cell_type": "code",
      "metadata": {
        "dc": {
          "key": "45"
        },
        "tags": [
          "sample_code"
        ],
        "trusted": true,
        "colab": {
          "base_uri": "https://localhost:8080/",
          "height": 295
        },
        "id": "T5nlq6LLd51D",
        "outputId": "888d1a24-10ed-495e-b479-0541fb274dd3"
      },
      "source": [
        "# Importing matplotlib\n",
        "import matplotlib.pyplot as plt\n",
        "\n",
        "# This makes plots appear in the notebook\n",
        "%matplotlib inline\n",
        "\n",
        "# Plotting the bar chart\n",
        "plt.bar(years,males_by_yr)\n",
        "\n",
        "# [OPTIONAL] - Setting a title, and axes labels\n",
        "plt.title('male gender in year vs year')\n",
        "plt.xlabel('Year')\n",
        "plt.ylabel('males by year')\n",
        "plt.show()"
      ],
      "execution_count": 10,
      "outputs": [
        {
          "output_type": "display_data",
          "data": {
            "image/png": "[encoded data removed]",
            "text/plain": [
              "<Figure size 432x288 with 1 Axes>"
            ]
          },
          "metadata": {
            "tags": [],
            "needs_background": "light"
          }
        }
      ]
    },
    {
      "cell_type": "markdown",
      "metadata": {
        "dc": {
          "key": "52"
        },
        "deletable": false,
        "editable": false,
        "run_control": {
          "frozen": true
        },
        "tags": [
          "context"
        ],
        "id": "qDGW1dHSd51E"
      },
      "source": [
        "## 8. Raising the bar\n",
        "<p>What’s more exciting than a bar chart is a grouped bar chart. This type of chart is good for displaying <em>changes</em> over time while also <em>comparing</em> two or more groups. Let’s use a grouped bar chart to look at the distribution of male and female authors over time.</p>"
      ]
    },
    {
      "cell_type": "code",
      "metadata": {
        "dc": {
          "key": "52"
        },
        "tags": [
          "sample_code"
        ],
        "trusted": true,
        "colab": {
          "base_uri": "https://localhost:8080/",
          "height": 295
        },
        "id": "a3oQigC9d51E",
        "outputId": "a6b69819-6f14-4bac-ed67-001c8ce3a2a0"
      },
      "source": [
        "# Creating a new list, where 0.25 is added to each year\n",
        "years_shifted = list(np.array(years)+0.25)\n",
        "\n",
        "# Plotting males_by_yr by year\n",
        "plt.bar(years,males_by_yr,width = 0.25, color = 'lightblue')\n",
        "plt.bar(years,females_by_yr,bottom = males_by_yr,width = 0.25, color = 'pink')\n",
        "\n",
        "# Plotting females_by_yr by years_shifted\n",
        "\n",
        "\n",
        "# [OPTIONAL] - Adding relevant Axes labels and Chart Title\n",
        "plt.title('Comparison of males and females by year')\n",
        "plt.xlabel('Year')\n",
        "plt.ylabel('Freqency')\n",
        "plt.show()"
      ],
      "execution_count": 11,
      "outputs": [
        {
          "output_type": "display_data",
          "data": {
            "image/png": "[encoded data removed]",
            "text/plain": [
              "<Figure size 432x288 with 1 Axes>"
            ]
          },
          "metadata": {
            "tags": [],
            "needs_background": "light"
          }
        }
      ]
    }
  ]
}